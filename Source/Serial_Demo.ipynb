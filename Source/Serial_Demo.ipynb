{
  "cells": [
    {
      "cell_type": "markdown",
      "metadata": {
        "collapsed": true,
        "pycharm": {
          "name": "#%% md\n"
        }
      },
      "source": "串口实现"
    },
    {
      "cell_type": "code",
      "execution_count": null,
      "outputs": [],
      "source": "import serial #导入模块\ntry:\n  #端口，GNU / Linux上的/ dev / ttyUSB0 等 或 Windows上的 COM3 等\n  portx\u003d\"COM3\"\n  #波特率，标准值之一：50,75,110,134,150,200,300,600,1200,1800,2400,4800,9600,19200,38400,57600,115200\n  bps\u003d115200\n  #超时设置,None：永远等待操作，0为立即返回请求结果，其他值为等待超时时间(单位为秒）\n  timex\u003d5\n  # 打开串口，并得到串口对象\n  ser\u003dserial.Serial(portx,bps,timeout\u003dtimex)\n\n  # 写数据\n  result\u003dser.write(\"我是东小东\".encode(\"gbk\"))\n  print(\"写总字节数:\",result)\n\n  ser.close()#关闭串口\n\nexcept Exception as e:\n    print(\"---异常---：\",e)",
      "metadata": {
        "pycharm": {
          "metadata": false,
          "name": "#%%\n"
        }
      }
    },
    {
      "cell_type": "markdown",
      "source": "获取可用串口列表",
      "metadata": {
        "pycharm": {
          "metadata": false
        }
      }
    },
    {
      "cell_type": "code",
      "execution_count": null,
      "outputs": [],
      "source": "import serial #导入模块\n\nimport serial.tools.list_ports\nport_list \u003d list(serial.tools.list_ports.comports())\nprint(port_list)\nif len(port_list) \u003d\u003d 0:\n   print(\u0027无可用串口\u0027)\nelse:\n    for i in range(0,len(port_list)):\n        print(port_list[i])",
      "metadata": {
        "pycharm": {
          "metadata": false,
          "name": "#%%\n"
        }
      }
    },
    {
      "cell_type": "markdown",
      "source": "十六进制处理",
      "metadata": {
        "pycharm": {
          "metadata": false
        }
      }
    },
    {
      "cell_type": "code",
      "execution_count": null,
      "outputs": [],
      "source": "import serial #导入模块\ntry:\n  portx\u003d\"COM3\"\n  bps\u003d115200\n  #超时设置,None：永远等待操作，0为立即返回请求结果，其他值为等待超时时间(单位为秒）\n  timex\u003dNone\n  ser\u003dserial.Serial(portx,bps,timeout\u003dtimex)\n  print(\"串口详情参数：\", ser)\n\n  #十六进制的发送\n  result\u003dser.write(chr(0x06).encode(\"utf-8\"))#写数据\n  print(\"写总字节数:\",result)\n\n  #十六进制的读取\n  print(ser.read().hex())#读一个字节\n\n  print(\"---------------\")\n  ser.close()#关闭串口\n\nexcept Exception as e:\n    print(\"---异常---：\",e)",
      "metadata": {
        "pycharm": {
          "metadata": false,
          "name": "#%%\n"
        }
      }
    },
    {
      "cell_type": "markdown",
      "source": "其他细节",
      "metadata": {
        "pycharm": {
          "metadata": false
        }
      }
    },
    {
      "cell_type": "code",
      "execution_count": null,
      "outputs": [],
      "source": "import serial #导入模块\ntry:\n\n  #端口，GNU / Linux上的/ dev / ttyUSB0 等 或 Windows上的 COM3 等\n  portx\u003d\"COM3\"\n  #波特率，标准值之一：50,75,110,134,150,200,300,600,1200,1800,2400,4800,9600,19200,38400,57600,115200\n  bps\u003d115200\n  #超时设置,None：永远等待操作，0为立即返回请求结果，其他值为等待超时时间(单位为秒）\n  timex\u003d5\n  # 打开串口，并得到串口对象\n  ser\u003dserial.Serial(portx,bps,timeout\u003dtimex)\n  print(\"串口详情参数：\", ser)\n\n\n\n  print(ser.port)#获取到当前打开的串口名\n  print(ser.baudrate)#获取波特率\n\n  result\u003dser.write(\"我是东小东\".encode(\"gbk\"))#写数据\n  print(\"写总字节数:\",result)\n\n\n  #print(ser.read())#读一个字节\n  # print(ser.read(10).decode(\"gbk\"))#读十个字节\n  #print(ser.readline().decode(\"gbk\"))#读一行\n  #print(ser.readlines())#读取多行，返回列表，必须匹配超时（timeout)使用\n  #print(ser.in_waiting)#获取输入缓冲区的剩余字节数\n  #print(ser.out_waiting)#获取输出缓冲区的字节数\n\n  #循环接收数据，此为死循环，可用线程实现\n  while True:\n         if ser.in_waiting:\n             str\u003dser.read(ser.in_waiting ).decode(\"gbk\")\n             if(str\u003d\u003d\"exit\"):#退出标志\n                 break\n             else:\n               print(\"收到数据：\",str)\n\n  print(\"---------------\")\n  ser.close()#关闭串口\n\n\nexcept Exception as e:\n    print(\"---异常---：\",e)",
      "metadata": {
        "pycharm": {
          "metadata": false,
          "name": "#%%\n"
        }
      }
    },
    {
      "cell_type": "markdown",
      "source": "部分封装",
      "metadata": {
        "pycharm": {
          "metadata": false
        }
      }
    },
    {
      "cell_type": "code",
      "execution_count": null,
      "outputs": [],
      "source": "import serial #导入模块\nimport threading\nSTRGLO\u003d\"\" #读取的数据\nBOOL\u003dTrue  #读取标志位\n\n#读数代码本体实现\ndef ReadData(ser):\n    global STRGLO,BOOL\n    # 循环接收数据，此为死循环，可用线程实现\n    while BOOL:\n        if ser.in_waiting:\n            STRGLO \u003d ser.read(ser.in_waiting).decode(\"gbk\")\n            print(STRGLO)\n\n\n#打开串口\n# 端口，GNU / Linux上的/ dev / ttyUSB0 等 或 Windows上的 COM3 等\n# 波特率，标准值之一：50,75,110,134,150,200,300,600,1200,1800,2400,4800,9600,19200,38400,57600,115200\n# 超时设置,None：永远等待操作，0为立即返回请求结果，其他值为等待超时时间(单位为秒）\ndef DOpenPort(portx,bps,timeout):\n    ret\u003dFalse\n    try:\n        # 打开串口，并得到串口对象\n        ser \u003d serial.Serial(portx, bps, timeout\u003dtimeout)\n        #判断是否打开成功\n        if(ser.is_open):\n           ret\u003dTrue\n           threading.Thread(target\u003dReadData, args\u003d(ser,)).start()\n    except Exception as e:\n        print(\"---异常---：\", e)\n    return ser,ret\n\n\n\n#关闭串口\ndef DColsePort(ser):\n    global BOOL\n    BOOL\u003dFalse\n    ser.close()\n\n\n\n#写数据\ndef DWritePort(ser,text):\n    result \u003d ser.write(text.encode(\"gbk\"))  # 写数据\n    return result\n\n\n\n\n#读数据\ndef DReadPort():\n    global STRGLO\n    str\u003dSTRGLO\n    STRGLO\u003d\"\"#清空当次读取\n    return str\n\n\n\nif __name__\u003d\u003d\"__main__\":\n    ser,ret\u003dDOpenPort(\"COM6\",115200,None)\n    if(ret\u003d\u003dTrue):#判断串口是否成功打开\n         count\u003dDWritePort(ser,\"我是东小东，哈哈\")\n         print(\"写入字节数：\",count)\n         #DReadPort() #读串口数据\n         #DColsePort(ser)  #关闭串口\n",
      "metadata": {
        "pycharm": {
          "metadata": false,
          "name": "#%%\n"
        }
      }
    }
  ],
  "metadata": {
    "language_info": {
      "codemirror_mode": {
        "name": "ipython",
        "version": 2
      },
      "file_extension": ".py",
      "mimetype": "text/x-python",
      "name": "python",
      "nbconvert_exporter": "python",
      "pygments_lexer": "ipython2",
      "version": "2.7.6"
    },
    "kernelspec": {
      "name": "python3",
      "language": "python",
      "display_name": "Python 3"
    }
  },
  "nbformat": 4,
  "nbformat_minor": 0
}