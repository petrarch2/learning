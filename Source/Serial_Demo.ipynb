{
 "cells": [
  {
   "cell_type": "markdown",
   "metadata": {
    "pycharm": {
     "metadata": false
    }
   },
   "source": [
    "获取可用串口列表"
   ]
  },
  {
   "cell_type": "code",
   "execution_count": null,
   "metadata": {
    "pycharm": {
     "metadata": false,
     "name": "#%%\n"
    }
   },
   "outputs": [],
   "source": [
    "import serial #导入模块\n",
    "\n",
    "import serial.tools.list_ports\n",
    "port_list = list(serial.tools.list_ports.comports())\n",
    "print(port_list)\n",
    "if len(port_list) == 0:\n",
    "   print('无可用串口')\n",
    "else:\n",
    "    for i in range(0,len(port_list)):\n",
    "        print(port_list[i])"
   ]
  },
  {
   "cell_type": "markdown",
   "metadata": {
    "collapsed": true,
    "pycharm": {
     "name": "#%% md\n"
    }
   },
   "source": [
    "串口实现"
   ]
  },
  {
   "cell_type": "code",
   "execution_count": null,
   "metadata": {
    "pycharm": {
     "metadata": false,
     "name": "#%%\n"
    }
   },
   "outputs": [],
   "source": [
    "import serial #导入模块\n",
    "try:\n",
    "  #端口，GNU / Linux上的/ dev / ttyUSB0 等 或 Windows上的 COM3 等\n",
    "  portx=\"COM6\"\n",
    "  #波特率，标准值之一：50,75,110,134,150,200,300,600,1200,1800,2400,4800,9600,19200,38400,57600,115200\n",
    "  bps=115200\n",
    "  #超时设置,None：永远等待操作，0为立即返回请求结果，其他值为等待超时时间(单位为秒）\n",
    "  timex=None\n",
    "  # 打开串口，并得到串口对象\n",
    "  ser=serial.Serial(portx,bps,timeout=timex)\n",
    "\n",
    "  # 写数据\n",
    "  result=ser.write(\"我是东小东\".encode(\"gbk\"))\n",
    "  print(\"写总字节数:\",result)\n",
    "\n",
    "  ser.close()#关闭串口\n",
    "\n",
    "except Exception as e:\n",
    "    print(\"---异常---：\",e)"
   ]
  },
  {
   "cell_type": "markdown",
   "metadata": {
    "pycharm": {
     "metadata": false
    }
   },
   "source": [
    "十六进制处理"
   ]
  },
  {
   "cell_type": "code",
   "execution_count": null,
   "metadata": {
    "pycharm": {
     "metadata": false,
     "name": "#%%\n"
    }
   },
   "outputs": [],
   "source": [
    "import serial #导入模块\n",
    "try:\n",
    "  portx=\"COM6\"\n",
    "  bps=115200\n",
    "  #超时设置,None：永远等待操作，0为立即返回请求结果，其他值为等待超时时间(单位为秒）\n",
    "  timex=5\n",
    "  ser=serial.Serial(portx,bps,timeout=timex)\n",
    "  print(\"串口详情参数：\", ser)\n",
    "\n",
    "  #十六进制的发送\n",
    "  result=ser.write(chr(0x06).encode(\"utf-8\"))#写数据\n",
    "  print(\"写总字节数:\",result)\n",
    "\n",
    "  #十六进制的读取\n",
    "  print(ser.read().hex())#读一个字节\n",
    "\n",
    "  print(\"---------------\")\n",
    "  ser.close()#关闭串口\n",
    "\n",
    "except Exception as e:\n",
    "    print(\"---异常---：\",e)"
   ]
  },
  {
   "cell_type": "markdown",
   "metadata": {
    "pycharm": {
     "metadata": false
    }
   },
   "source": [
    "其他细节"
   ]
  },
  {
   "cell_type": "code",
   "execution_count": null,
   "metadata": {
    "pycharm": {
     "metadata": false,
     "name": "#%%\n"
    }
   },
   "outputs": [],
   "source": [
    "import serial #导入模块\n",
    "try:\n",
    "\n",
    "  #端口，GNU / Linux上的/ dev / ttyUSB0 等 或 Windows上的 COM3 等\n",
    "  portx=\"COM6\"\n",
    "  #波特率，标准值之一：50,75,110,134,150,200,300,600,1200,1800,2400,4800,9600,19200,38400,57600,115200\n",
    "  bps=115200\n",
    "  #超时设置,None：永远等待操作，0为立即返回请求结果，其他值为等待超时时间(单位为秒）\n",
    "  timex=5\n",
    "  # 打开串口，并得到串口对象\n",
    "  ser=serial.Serial(portx,bps,timeout=timex)\n",
    "  print(\"串口详情参数：\", ser)\n",
    "\n",
    "\n",
    "\n",
    "  print(ser.port)#获取到当前打开的串口名\n",
    "  print(ser.baudrate)#获取波特率\n",
    "\n",
    "  result=ser.write(\"我是东小东\".encode(\"gbk\"))#写数据\n",
    "  print(\"写总字节数:\",result)\n",
    "\n",
    "\n",
    "  #print(ser.read())#读一个字节\n",
    "  # print(ser.read(10).decode(\"gbk\"))#读十个字节\n",
    "  #print(ser.readline().decode(\"gbk\"))#读一行\n",
    "  #print(ser.readlines())#读取多行，返回列表，必须匹配超时（timeout)使用\n",
    "  #print(ser.in_waiting)#获取输入缓冲区的剩余字节数\n",
    "  #print(ser.out_waiting)#获取输出缓冲区的字节数\n",
    "\n",
    "  #循环接收数据，此为死循环，可用线程实现\n",
    "  while True:\n",
    "         if ser.in_waiting:\n",
    "             str=ser.read(ser.in_waiting ).decode(\"gbk\")\n",
    "             if(str==\"exit\"):#退出标志\n",
    "                 break\n",
    "             else:\n",
    "               print(\"收到数据：\",str)\n",
    "\n",
    "  print(\"---------------\")\n",
    "  ser.close()#关闭串口\n",
    "\n",
    "\n",
    "except Exception as e:\n",
    "    print(\"---异常---：\",e)"
   ]
  },
  {
   "cell_type": "markdown",
   "metadata": {
    "pycharm": {
     "metadata": false
    }
   },
   "source": [
    "部分封装"
   ]
  },
  {
   "cell_type": "code",
   "execution_count": null,
   "metadata": {
    "pycharm": {
     "metadata": false,
     "name": "#%%\n"
    }
   },
   "outputs": [],
   "source": [
    "import serial #导入模块\n",
    "import threading\n",
    "STRGLO=\"\" #读取的数据\n",
    "BOOL=True  #读取标志位\n",
    "\n",
    "#读数代码本体实现\n",
    "def ReadData(ser):\n",
    "    global STRGLO,BOOL\n",
    "    # 循环接收数据，此为死循环，可用线程实现\n",
    "    while BOOL:\n",
    "        if ser.in_waiting:\n",
    "            STRGLO = ser.read(ser.in_waiting).decode(\"gbk\")\n",
    "            print(STRGLO)\n",
    "\n",
    "\n",
    "#打开串口\n",
    "# 端口，GNU / Linux上的/ dev / ttyUSB0 等 或 Windows上的 COM3 等\n",
    "# 波特率，标准值之一：50,75,110,134,150,200,300,600,1200,1800,2400,4800,9600,19200,38400,57600,115200\n",
    "# 超时设置,None：永远等待操作，0为立即返回请求结果，其他值为等待超时时间(单位为秒）\n",
    "def DOpenPort(portx,bps,timeout):\n",
    "    ret=False\n",
    "    try:\n",
    "        # 打开串口，并得到串口对象\n",
    "        ser = serial.Serial(portx, bps, timeout=timeout)\n",
    "        #判断是否打开成功\n",
    "        if(ser.is_open):\n",
    "           ret=True\n",
    "           threading.Thread(target=ReadData, args=(ser,)).start()\n",
    "    except Exception as e:\n",
    "        print(\"---异常---：\", e)\n",
    "    return ser,ret\n",
    "\n",
    "\n",
    "\n",
    "#关闭串口\n",
    "def DColsePort(ser):\n",
    "    global BOOL\n",
    "    BOOL=False\n",
    "    ser.close()\n",
    "\n",
    "\n",
    "\n",
    "#写数据\n",
    "def DWritePort(ser,text):\n",
    "    result = ser.write(text.encode(\"gbk\"))  # 写数据\n",
    "    return result\n",
    "\n",
    "\n",
    "\n",
    "\n",
    "#读数据\n",
    "def DReadPort():\n",
    "    global STRGLO\n",
    "    str=STRGLO\n",
    "    STRGLO=\"\"#清空当次读取\n",
    "    return str\n",
    "\n",
    "\n",
    "\n",
    "if __name__==\"__main__\":\n",
    "    ser,ret=DOpenPort(\"COM6\",115200,None)\n",
    "    if(ret==True):#判断串口是否成功打开\n",
    "         count=DWritePort(ser,\"我是东小东，哈哈\")\n",
    "         print(\"写入字节数：\",count)\n",
    "         #DReadPort() #读串口数据\n",
    "         #DColsePort(ser)  #关闭串口\n"
   ]
  },
  {
   "cell_type": "markdown",
   "metadata": {
    "pycharm": {}
   },
   "source": [
    "# test"
   ]
  },
  {
   "cell_type": "code",
   "execution_count": null,
   "metadata": {
    "pycharm": {}
   },
   "outputs": [],
   "source": [
    "import serial #导入模块\n",
    "import threading\n",
    "STRGLO=\"\" #读取的数据\n",
    "BOOL=True  #读取标志位\n",
    "\n",
    "#读数代码本体实现\n",
    "def ReadData(ser):\n",
    "    global STRGLO,BOOL\n",
    "    # 循环接收数据，此为死循环，可用线程实现\n",
    "    while BOOL:\n",
    "        if ser.in_waiting:\n",
    "            STRGLO = ser.read(ser.in_waiting)\n",
    "            # print(STRGLO)   #返回bytearray\n",
    "\n",
    "\n",
    "#打开串口\n",
    "# 端口，GNU / Linux上的/ dev / ttyUSB0 等 或 Windows上的 COM3 等\n",
    "# 波特率，标准值之一：50,75,110,134,150,200,300,600,1200,1800,2400,4800,9600,19200,38400,57600,115200\n",
    "# 超时设置,None：永远等待操作，0为立即返回请求结果，其他值为等待超时时间(单位为秒）\n",
    "def DOpenPort(portx,bps,timeout):\n",
    "    ret=False\n",
    "    try:\n",
    "        # 打开串口，并得到串口对象\n",
    "        ser = serial.Serial(portx, bps, parity=serial.PARITY_EVEN, timeout=timeout)\n",
    "        #判断是否打开成功\n",
    "        if(ser.is_open):\n",
    "           ret=True\n",
    "           test = threading.Thread(target=ReadData, args=(ser,))\n",
    "           test.setDaemon(True)     #守护线程，主线程退出结束\n",
    "           test.start()\n",
    "    except Exception as e:\n",
    "        ser.close()\n",
    "        print(\"---异常---：\", e)\n",
    "    return ser,ret\n",
    "\n",
    "#关闭串口\n",
    "def DColsePort(ser):\n",
    "    global BOOL\n",
    "    BOOL=False\n",
    "    ser.close()\n",
    "\n",
    "\n",
    "#写数据\n",
    "def DWritePort(ser,text):\n",
    "    result=ser.write(text)  # 写数据\n",
    "    return result\n",
    "\n",
    "#读数据\n",
    "def DReadPort():\n",
    "    global STRGLO\n",
    "    str=STRGLO\n",
    "    STRGLO=\"\"#清空当次读取\n",
    "    for res in str:\n",
    "        # print(hex(res), '---', type(res))\n",
    "        print('%02x'%res, end=' ')\n",
    "    return res\n",
    "\n",
    "\n",
    "# send_text = (0x68,0xAA,0x80,0xAA,0xAA,0xAA,0xAA,0x68,0x13,0x00,0xDF,0x16)       #元组\n",
    "send_text = b\"\\x68\\xAA\\xAA\\xAA\\xAA\\xAA\\xAA\\x68\\x13\\x00\\xDF\\x16\"       #bytes\n",
    "# send_text = \"\\x68\\xAA\\xAA\\xAA\\xAA\\xAA\\xAA\\x68\\x13\\x00\\xDF\\x16\"       #字符串，0x80以上数据encode有问题\n",
    "\n",
    "if __name__==\"__main__\":\n",
    "    ser,ret=DOpenPort(\"COM6\",9600,None)\n",
    "    if(ret==True):#判断串口是否成功打开\n",
    "        count=DWritePort(ser,send_text)     #text为bytes数据\n",
    "        print(\"长度：\", len(send_text))\n",
    "        print(\"写入字节数：\",count)\n",
    "\n",
    "        while True:\n",
    "            if STRGLO != '':\n",
    "                if 0x16 == DReadPort():     #读串口数据\n",
    "                    print('\\n', 'exit loop')\n",
    "                    break\n",
    "\n",
    "        DColsePort(ser)     #关闭串口\n",
    "        print('communication end')\n"
   ]
  },
  {
   "cell_type": "code",
   "execution_count": null,
   "metadata": {},
   "outputs": [],
   "source": []
  }
 ],
 "metadata": {
  "kernelspec": {
   "display_name": "Python 3",
   "language": "python",
   "name": "python3"
  },
  "language_info": {
   "codemirror_mode": {
    "name": "ipython",
    "version": 3
   },
   "file_extension": ".py",
   "mimetype": "text/x-python",
   "name": "python",
   "nbconvert_exporter": "python",
   "pygments_lexer": "ipython3",
   "version": "3.6.2"
  }
 },
 "nbformat": 4,
 "nbformat_minor": 1
}
